{
 "cells": [
  {
   "cell_type": "code",
   "execution_count": 45,
   "id": "8b2c7b84",
   "metadata": {},
   "outputs": [],
   "source": [
    "import numpy as np\n",
    "import pandas as pd\n",
    "import matplotlib.pyplot as plt\n",
    "import seaborn as sns\n",
    "import os\n",
    "import glob\n",
    "import matplotlib.ticker as ticker\n",
    "os.chdir(\"U:/Datastore/IGMM/ajackson-wrkgrp/People/Aitana/CDK4/Mitosis-CDK4-with Julia/Experiments and results by Julia/190124_new/results_ctrl/angles/\")"
   ]
  }
